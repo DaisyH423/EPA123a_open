{
 "cells": [
  {
   "cell_type": "markdown",
   "id": "ec162e16-d7bb-402f-8515-07c2cc64b0b6",
   "metadata": {},
   "source": [
    "## MESA\n",
    "\n",
    "Mesa is an agent-based modeling (or ABM) framework in Python. It enables users to quickly develop ABMs. It provides a variety of convenience components often used in ABMs, like different kinds of spaces within which agents can interact, different kinds of schedulers for controlling which agents in what order are making their moves, and basic support for dealing with the intrinsic stochastic nature of ABMs. MESA is ideally suited for learning agent-based modeling. It is less suited for developing large-scale computationally heavy ABMs because of intrinsic runtime limitations of Python. Given that MESA is a Python library, and its focus is on learning ABM, we have chosen to use MESA. The documentation of MESA can be found online: https://mesa.readthedocs.io/en/stable/. Besides this tutorial, we recommend you to use it when you are making your assignments for more detailed information.\n",
    "\n",
    "\n",
    "Any Agent Based Model is typically composed of a collection of **Agents**, which are positioned in a **Space**. The Agents interact with each other typically based on how close they are in the Space. Sometimes they also interact with the Space itself. Agent Based Models are dynamic so they show some kind of pattern over time. To create this dynamic, Agent Based Models use **ticks**. A tick is like a timestep. In each tick, all agents are given the option to act. The order in which Agents can act is very important because Agent Based Models are prone to showing path dependence. Therefore, the order in which agents get to act is typcially handled by a **Scheduler**. \n",
    "\n",
    "Let's build a very simple Agent Based Model, using MESA which contains these four components: Agents, Space, Schedulers, and ticks. The model we will build is a simple model of an economy. It consists of a collection of agents which move around randomly in a grid like space. If, after having moved, an agent find itself in a gridcell occopied by  other agents, the agent will give one unit of wealth to a randomly selected other agent in the same grid cell. \n",
    "\n",
    "To implement this model, we will extend the Agent and Model class provided by MESA. As space, we will use a MultiGrid. This is a gridd (think excel-like) space where more than one agent can occupy the same cell. As scheduler, we will use the RandomActiviation. This means that at each tick, all agents in a random order get to make their move. \n",
    "\n",
    "So we start with importing the classes from MESA that we need."
   ]
  },
  {
   "cell_type": "code",
   "execution_count": 1,
   "id": "43c4f659-5b4b-4e79-baf5-aa0588bf659e",
   "metadata": {
    "tags": []
   },
   "outputs": [],
   "source": [
    "from mesa import Agent, Model, DataCollector\n",
    "from mesa.time import RandomActivation\n",
    "from mesa.space import MultiGrid"
   ]
  },
  {
   "cell_type": "markdown",
   "id": "37c35fd6-2e3c-495e-b0b9-8c94f0821143",
   "metadata": {},
   "source": [
    "Next, we can extend the MESA Model class. For this, we have to implement the `__init__` and the `step` method. The `__init__` is the initial setup of the model (tick=0). So we give our model a space (i.e., `self.grid = MultiGrid(width, height, True)`. We also give the model a scheduler (i.e., `self.schedule = RandomActivation(self)`. In addition, various functionality in MESA depends on having a running attribute on the model as well as a a datacolllector. `self.running` is used to indicate that the model is initialized and running. A datacollector is used to gather statistics during the run. These statistitcs can be gathered at the level of the model to capture aggregate emergent behavior, but also at the agent level to gathered detailed microdata. In this particular case, we track the GINI coefficient which is a measure of wealth inequality. This is thus an aggregate metric. To calculate it, we implement the `compute_gini` function. We also want to track the agent level wealth. So, we instantiate a `DataCollector`:\n",
    "\n",
    "```python\n",
    "        self.datacollector = DataCollector(\n",
    "            model_reporters={\"Gini\": compute_gini}, agent_reporters={\"Wealth\": \"wealth\"}\n",
    "        )\n",
    "```\n",
    "\n",
    "At every step of the model, so every tick, we gather the statistics using this datacollector.\n",
    "\n",
    "Last, we need to populate the grid with agents. We do this by first creating an Agend and next placing it at a randomly selected grid cell (i.e., in the for loop). The step method is short: we just invoke the step method on the scheduler (i.e., `self.scheduler.step()`). "
   ]
  },
  {
   "cell_type": "code",
   "execution_count": 2,
   "id": "e143a557-9848-4356-a409-769154a80b3a",
   "metadata": {
    "tags": []
   },
   "outputs": [],
   "source": [
    "def compute_gini(model):\n",
    "    agent_wealths = [agent.wealth for agent in model.schedule.agents]\n",
    "    x = sorted(agent_wealths)\n",
    "    N = model.num_agents\n",
    "    B = sum(xi * (N - i) for i, xi in enumerate(x)) / (N * sum(x))\n",
    "    return 1 + (1 / N) - 2 * B\n",
    "\n",
    "\n",
    "\n",
    "class MoneyModel(Model):\n",
    "    \"\"\"A model with some number of agents.\n",
    "    \n",
    "    Parameters\n",
    "    N : int\n",
    "        the number of agents in the space\n",
    "    width : int\n",
    "            the width of the space\n",
    "    height : int\n",
    "             the height of the space\n",
    "    \"\"\"\n",
    "    def __init__(self, N, width, height):\n",
    "        self.num_agents = N\n",
    "        \n",
    "        # the space within which agents move\n",
    "        self.grid = MultiGrid(width, height, True)\n",
    "        \n",
    "        # the scheduler\n",
    "        self.schedule = RandomActivation(self)\n",
    "        \n",
    "        # running attribute\n",
    "        self.running = True\n",
    "\n",
    "        # initialize the model by creating N agents\n",
    "        # positioned at a random location in the grid\n",
    "        for i in range(self.num_agents):\n",
    "            agent = MoneyAgent(i, self)\n",
    "            self.schedule.add(agent)\n",
    "            \n",
    "            # Add the agent to a random grid cell\n",
    "            x = self.random.randrange(self.grid.width)\n",
    "            y = self.random.randrange(self.grid.height)\n",
    "            self.grid.place_agent(agent, (x, y))\n",
    "            \n",
    "        self.datacollector = DataCollector(\n",
    "            model_reporters={\"Gini\": compute_gini}, agent_reporters={\"Wealth\": \"wealth\"}\n",
    "        )\n",
    "\n",
    "    def step(self):\n",
    "        self.datacollector.collect(self)\n",
    "        self.schedule.step()\n"
   ]
  },
  {
   "cell_type": "markdown",
   "id": "71dad976-42f4-43b3-8798-db7cdc2b885a",
   "metadata": {
    "tags": []
   },
   "source": [
    "We also need to extend the Agent class that comes with MESA. In the simplest version, we would again only need to implement the `__init__` and the `step` method. However, in this case, we seperate the `step` method into 2 activities: moving to a randomly selected neighboring cell, and possible giving money. We place both activities in their own methods to clearly seperate these two actions (i.e., we add a `move` and `give_money` method to the Agent class). \n",
    "\n",
    "For the move method, we can use the grid of the model to get the neigboring cells, randomly pick one, and then inform the grid to move the agent to this randomly selected grid cell. Perhaps counterintuitively, the Agent does not change its own location. Instead, the grid space moves the Agent through the MESA-method move_agent.\n",
    "\n",
    "For the `give_money` method, we ask the grid for a list of all agents occuping our current grid cell (with `get_cell_list_contents`). This method is only invoked if the agent has any wealth to give. If not, nothing happens. If there is more than one agent, we randomly select one agent to give wealth to.\n",
    "\n",
    "Question: look carefully at the give_money method. Do you notice anything odd in how this is currently implemented?"
   ]
  },
  {
   "cell_type": "markdown",
   "id": "e5c58a3a-bbcd-4bef-b8ce-3363ee07fbca",
   "metadata": {
    "tags": []
   },
   "source": [
    "answer: the agent randomly select from the list of agents currently occupying the cell. This list includes also itself, so the agent might give wealth to itself."
   ]
  },
  {
   "cell_type": "code",
   "execution_count": 3,
   "id": "5186e6ca-895b-4335-bad6-e79d0777b002",
   "metadata": {
    "tags": []
   },
   "outputs": [],
   "source": [
    "\n",
    "class MoneyAgent(Agent):\n",
    "    \"\"\" An agent with fixed initial wealth.\"\"\"\n",
    "    def __init__(self, unique_id, model):\n",
    "        super().__init__(unique_id, model)\n",
    "        self.wealth = 1\n",
    "\n",
    "    def move(self):\n",
    "        possible_steps = self.model.grid.get_neighborhood(\n",
    "            self.pos, moore=True, include_center=False)\n",
    "        new_position = self.random.choice(possible_steps)\n",
    "        self.model.grid.move_agent(self, new_position)\n",
    "\n",
    "    def give_money(self):\n",
    "        cellmates = self.model.grid.get_cell_list_contents([self.pos])\n",
    "        if len(cellmates) > 1:\n",
    "            other = self.random.choice(cellmates)\n",
    "            other.wealth += 1\n",
    "            self.wealth -= 1\n",
    "\n",
    "    def step(self):\n",
    "        self.move()\n",
    "        if self.wealth > 0:\n",
    "            self.give_money()"
   ]
  },
  {
   "cell_type": "markdown",
   "id": "d886134e-7a27-46db-99a6-054aafa65287",
   "metadata": {},
   "source": [
    "This completes the setup of the model. We can now instantiate the model, and run it for a number of ticks"
   ]
  },
  {
   "cell_type": "code",
   "execution_count": 4,
   "id": "b66a52a5-9423-4969-9aa1-1f174abf776d",
   "metadata": {
    "tags": []
   },
   "outputs": [],
   "source": [
    "width = 10\n",
    "height = 10\n",
    "n_agents = 80\n",
    "model = MoneyModel(n_agents, width, height)\n",
    "n_ticks = 10\n",
    "for _ in range(n_ticks):\n",
    "    model.step()"
   ]
  },
  {
   "cell_type": "markdown",
   "id": "f5d896d4-aa76-40a9-8af0-689d9c2c30b6",
   "metadata": {},
   "source": [
    "As a last step, we can visualize the model results. For example, we can show a histogram of the distribution of wealth over the agents for the last timestep (i.e., 9) like this. Note how we use the datacollector to get the agent level statistics that we have been gathering over the run (ie.., `model.datacollector.get_agent_vars_dataframe().loc[9, \"Wealth\"]`]"
   ]
  },
  {
   "cell_type": "code",
   "execution_count": 5,
   "id": "c9c4529e-fbf1-45cd-8222-ad29c1f8aadf",
   "metadata": {
    "tags": []
   },
   "outputs": [
    {
     "data": {
      "image/png": "[encoded data removed]",
      "text/plain": [
       "<Figure size 1200x800 with 1 Axes>"
      ]
     },
     "metadata": {},
     "output_type": "display_data"
    }
   ],
   "source": [
    "import numpy as np\n",
    "import matplotlib.pyplot as plt\n",
    "import seaborn as sns\n",
    "\n",
    "sns.set_style('white')\n",
    "\n",
    "agent_wealth = model.datacollector.get_agent_vars_dataframe().loc[9, \"Wealth\"]\n",
    "\n",
    "fig, ax = plt.subplots()\n",
    "\n",
    "ax.hist(agent_wealth)\n",
    "ax.set_ylabel('# agents')\n",
    "ax.set_xlabel('wealth')\n",
    "\n",
    "sns.despine()\n",
    "\n",
    "plt.show()\n"
   ]
  },
  {
   "cell_type": "markdown",
   "id": "f5cabc3b-5162-4b4c-afe2-cea697d8e02b",
   "metadata": {},
   "source": [
    "We can also take a look at the grid itself like this:"
   ]
  },
  {
   "cell_type": "code",
   "execution_count": 6,
   "id": "63e0c8eb-98b5-4a4d-903a-f669d796fc9c",
   "metadata": {
    "tags": []
   },
   "outputs": [
    {
     "data": {
      "image/png": "[encoded data removed]",
      "text/plain": [
       "<Figure size 1200x800 with 2 Axes>"
      ]
     },
     "metadata": {},
     "output_type": "display_data"
    }
   ],
   "source": [
    "fig, ax = plt.subplots()\n",
    "\n",
    "agent_counts = np.zeros((model.grid.width, model.grid.height))\n",
    "for cell in model.grid.coord_iter():\n",
    "    cell_content, (x, y) = cell\n",
    "    agent_count = len(cell_content)\n",
    "    agent_counts[x][y] = agent_count\n",
    "img = ax.imshow(agent_counts, interpolation='nearest')\n",
    "fig.colorbar(img, ax=ax)\n",
    "plt.show()"
   ]
  },
  {
   "cell_type": "markdown",
   "id": "b9ad1af3-a879-4ee0-b826-d5b8078a28e6",
   "metadata": {},
   "source": [
    "Question: run the model a few times and replot the results. Do you notice anything strange and can you explain this?"
   ]
  },
  {
   "cell_type": "markdown",
   "id": "6e10c355-fa36-4efd-8fc1-c373aeee71e6",
   "metadata": {
    "tags": []
   },
   "source": [
    "Answer: There is quite some randomness in the model: where the original agents are located, where they move to, and to whom to give wealth. Everytime you rerun the model different random numbers are used and thus you get different results. This is a key and important difference with system dynamics models. ABMs are stochastic, while SD models are deterministic. In future assignments, we will look at this in more detail and also show how we can control the random numbers that are being generated so that the model becomes deterministic. This is desirable for debugging and reproducibility."
   ]
  },
  {
   "cell_type": "markdown",
   "id": "ce45bfd6-a180-41ea-8496-2d62f16bbcb3",
   "metadata": {},
   "source": [
    "So far, we have run the model and visualized some of the results afterwards. It is possible, however, to animate the model while it is running. The most recent version of MESA offers suport for doing this within a Jupyter notebook. Note that this is still an experimental feature which is under active development. It also makes various strong assumptions on implementation details regarding the model (i.e., the model needs to have the attributes schedule, grid, and datacollector). \n",
    "\n",
    "Below we first define a function `agent_portrayal` which maps the agent and its state into a visual representation. Next, we specify the parameters in the model that we should be able to change from the interface (`model_params`). We can only control the `N` parameter. Note how this name is identical to one of the arguments that goes into the `__init__` of the model class. Width and height are fixed to 10, and again match arguments that the model needs when it is instantiated."
   ]
  },
  {
   "cell_type": "code",
   "execution_count": 7,
   "id": "160b0096-9e93-4f6f-86d7-f773b42d01a5",
   "metadata": {
    "tags": []
   },
   "outputs": [],
   "source": [
    "from mesa.experimental import JupyterViz"
   ]
  },
  {
   "cell_type": "code",
   "execution_count": 8,
   "id": "53e2708c-9a83-4bb0-a988-226d1ffd1739",
   "metadata": {
    "tags": []
   },
   "outputs": [],
   "source": [
    "def agent_portrayal(agent):\n",
    "    size = 10\n",
    "    color = \"tab:red\"\n",
    "    if agent.wealth > 0:\n",
    "        size = 10+(10*agent.wealth)\n",
    "        color = \"tab:blue\"\n",
    "    return {\"size\": size, \"color\": color}"
   ]
  },
  {
   "cell_type": "code",
   "execution_count": 9,
   "id": "4d14bfc5-0fe7-4c96-b526-9e1f5fe50ad1",
   "metadata": {
    "tags": []
   },
   "outputs": [
    {
     "data": {
      "application/vnd.jupyter.widget-view+json": {
       "model_id": "8108cf1ccb834053b2f865c38c837de7",
       "version_major": 2,
       "version_minor": 0
      },
      "text/html": [
       "Cannot show widget. You probably want to rerun the code cell above (<i>Click in the code cell, and press Shift+Enter <kbd>⇧</kbd>+<kbd>↩</kbd></i>)."
      ],
      "text/plain": [
       "Cannot show ipywidgets in text"
      ]
     },
     "metadata": {},
     "output_type": "display_data"
    }
   ],
   "source": [
    "model_params = {\n",
    "    \"N\": {\n",
    "        \"type\": \"SliderInt\",\n",
    "        \"value\": 50,\n",
    "        \"label\": \"Number of agents:\",\n",
    "        \"min\": 10,\n",
    "        \"max\": 100,\n",
    "        \"step\": 1,\n",
    "    },\n",
    "    \"width\": 10,\n",
    "    \"height\": 10,\n",
    "}\n",
    "\n",
    "\n",
    "page = JupyterViz(\n",
    "    MoneyModel,\n",
    "    model_params,\n",
    "    measures=[\"Gini\"],\n",
    "    name=\"Money Model\",\n",
    "    agent_portrayal=agent_portrayal,\n",
    ")\n",
    "# This is required to render the visualization in the Jupyter notebook\n",
    "page"
   ]
  },
  {
   "cell_type": "code",
   "execution_count": null,
   "id": "486a3eed-cc6d-47b0-85ab-68a9188f3f84",
   "metadata": {},
   "outputs": [],
   "source": []
  }
 ],
 "metadata": {
  "kernelspec": {
   "display_name": "Python 3 (ipykernel)",
   "language": "python",
   "name": "python3"
  },
  "language_info": {
   "codemirror_mode": {
    "name": "ipython",
    "version": 3
   },
   "file_extension": ".py",
   "mimetype": "text/x-python",
   "name": "python",
   "nbconvert_exporter": "python",
   "pygments_lexer": "ipython3",
   "version": "3.11.5"
  }
 },
 "nbformat": 4,
 "nbformat_minor": 5
}
