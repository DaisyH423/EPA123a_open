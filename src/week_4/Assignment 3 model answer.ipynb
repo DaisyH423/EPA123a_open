{
 "cells": [
  {
   "cell_type": "markdown",
   "metadata": {},
   "source": [
    "# Schelling Segregation\n",
    "\n",
    "## Conceptual description\n",
    "The basic idea of Schelling's seggregation model is quite straight forward. Imagine we have agents organized on a grid. Agents are either red or blue. Agents prefer to be in an environment with agents of the same color, but they are quite tolerant. If the fraction of neighbors of a different color is higher than this tolerance threshold, the agent moves to another free grid cell. At what level of tolerance does segregation occur? \n",
    "\n",
    "Given this basic description, the model is composed of a grid, with one agent per grid cell. This grid is not completely filled because we need to have free space to where an agent can move. Each agent has a tolerance level, and checks when asked if the fraction of neighbors that is of the different type is higher than this tolerance level. \n",
    "\n",
    "## Implementing a first version of the model\n",
    "\n",
    "### Assignment\n",
    "\n",
    "1. What classes do you need for this model? And what are the key attributes for each of these classes?\n",
    "\n"
   ]
  },
  {
   "cell_type": "markdown",
   "metadata": {},
   "source": [
    "You need \n",
    "\n",
    "**SchellingModel**\n",
    "* grid\n",
    "* schedule\n",
    "* initial ratio between agent colors\n",
    "\n",
    "**SchellingAgent**\n",
    "* color\n",
    "* tolerance threshold"
   ]
  },
  {
   "cell_type": "markdown",
   "metadata": {},
   "source": [
    "## Schedulers\n",
    "A key issue with the Schelling model, and a key way in which this model is different from the various versions of the Axelrod model is that a step by a given agent can change the local environment. Imagine that a given agent checks its neighborhood, decided that the number of neighbors of a different color is higher than its threshold, and thus decides to move to an empty spot. This move changes the neighborhood the agent is leaving. It also changes the neighborhood the agent is moving to. Depending on the order in which agents are activated (i.e. the `step` method is called) different dynamic patterns can occur.\n",
    "\n",
    "This agent activation is typically handled through a so-called scheduler. In the Axelrod model in week 2, we did this ourself by having a list or set of agents as an attribute on the model. For the spatial version of Axelrod explored in week 3, we made a custom scheduler. However, MESA comes with a number of schedulers that can be used in many cases as well.\n",
    "\n",
    "*  **BaseScheduler**; the base scheduler is nothing but a list and we activate the agents based on the unique ID they have. Internally, base scheduler uses an `OrderedDict`, orded by `agent.unique_id`. \n",
    "* **RandomActivation**; shuffle all agents before activating them one by one. This is the most often used scheduler in all agent based models. It does introduce yet another form of stochasticity in the model, thus making it necessary to run multiple replications and carefully control the random seed.\n",
    "* **SimultaneousActivation**; a more complicated activation for mimicking all agents moving simultaneously. Rather than having a single step method on an agent, each agent has a staging method and an execution method. You first stage all agents, and then execute all agents. Staging in the context of Schelling Segregation means deciding to move or not. Executing means making the move. So SimultaneousActivation partly solves the path dependency problem mentioned above. Partly, because when moving only a single agent can occupy a given free spot.\n",
    "* **StagedActivation**; A more complicated activation system were agents have not a single step method, but multiple phases of action were each phase needs to be completed for all agents, before moving to the next method. Basically, this is an even more sophisticated extension of SimultaneousActivation.\n",
    "* **RandomActivationByType** for each class of agents, shuffle all instances and activate them one after another. \n",
    "\n",
    "A model typically has only a single scheduler for all agents, but it is also possible to have multiple schedulers for different agent types."
   ]
  },
  {
   "cell_type": "markdown",
   "metadata": {},
   "source": [
    "## Assignment 1\n",
    "\n",
    "Below, I have given the outline of the model, we are going to implement this now. First, implement the ``__init__`` of the model. It is indicated below with the `...`. A hint regarding attributes can be found in the docstring. The code is very similar to the initialization used for the spatial version of the Axelrod model. After the code block, there is some test code to help you check if your code is working."
   ]
  },
  {
   "cell_type": "code",
   "execution_count": 1,
   "metadata": {
    "ExecuteTime": {
     "end_time": "2020-10-23T07:10:08.062564Z",
     "start_time": "2020-10-23T07:10:04.980297Z"
    },
    "tags": []
   },
   "outputs": [],
   "source": [
    "import numpy as np\n",
    "import pandas as pd\n",
    "import matplotlib.pyplot as plt\n",
    "import seaborn as sns\n",
    "\n",
    "from mesa import Model, Agent\n",
    "from mesa.time import RandomActivation\n",
    "from mesa.space import SingleGrid\n",
    "from mesa.datacollection import DataCollector\n",
    "\n",
    "from enum import Enum\n",
    "\n",
    "class Color(Enum):\n",
    "    RED = 1 # minority color\n",
    "    BLUE = 2 # majority color\n",
    "\n",
    "\n",
    "class Schelling(Model):\n",
    "    \"\"\"\n",
    "    Model class for the Schelling segregation model.\n",
    "    \n",
    "    Parameters\n",
    "    ----------\n",
    "    height : int\n",
    "             height of grid\n",
    "    width : int\n",
    "            height of width\n",
    "    density : float\n",
    "            fraction of grid cells occupied\n",
    "    minority_fraction : float\n",
    "            fraction of agent of minority color\n",
    "    tolerance_threshold : int\n",
    "    \n",
    "    Attributes\n",
    "    ----------\n",
    "    height : int\n",
    "    width : int\n",
    "    density : float\n",
    "    minority_fraction : float\n",
    "    schedule : RandomActivation instance\n",
    "    grid : SingleGrid instance\n",
    "    \n",
    "    \"\"\"\n",
    "\n",
    "    def __init__(self, height=20, width=20, density=0.8, minority_fraction=0.2,\n",
    "                 tolerance_threshold=4, seed=None):\n",
    "        super().__init__(seed=seed)\n",
    "        \n",
    "        \n",
    "        self.height = height\n",
    "        self.width = width\n",
    "        self.density = density\n",
    "        self.minority_fraction = minority_fraction\n",
    "\n",
    "        self.schedule = RandomActivation(self)\n",
    "        self.grid = SingleGrid(width, height, torus=True)\n",
    "\n",
    "        # Set up agents\n",
    "        # We use a grid iterator that returns\n",
    "        # the coordinates of a cell as well as\n",
    "        # its contents. (coord_iter)\n",
    "        for _, pos in self.grid.coord_iter():\n",
    "            if self.random.random() < self.density:\n",
    "                if self.random.random() < self.minority_fraction:\n",
    "                    agent_color = Color.RED\n",
    "                else:\n",
    "                    agent_color = Color.BLUE\n",
    "\n",
    "                agent = SchellingAgent(pos, self, agent_color, tolerance_threshold)\n",
    "                self.grid.place_agent(agent, pos)\n",
    "                self.schedule.add(agent)\n",
    "\n",
    "    def step(self):\n",
    "        \"\"\"\n",
    "        Run one step of the model.\n",
    "        \"\"\"\n",
    "        self.schedule.step()\n",
    "\n",
    "\n",
    "class SchellingAgent(Agent):\n",
    "    \"\"\"\n",
    "    Schelling segregation agent\n",
    "    \n",
    "    Parameters\n",
    "    ----------\n",
    "    pos : tuple of 2 ints\n",
    "          the x,y coordinates in the grid\n",
    "    model : Model instance\n",
    "    color : {Color.RED, Color.BLUE}\n",
    "    tolerance_threshold : int\n",
    "    \n",
    "    \"\"\"\n",
    "\n",
    "    def __init__(self, pos, model, color, tolerance_threshold):\n",
    "        super().__init__(pos, model)\n",
    "        self.pos = pos\n",
    "        self.color = color\n",
    "        self.tolerance_threshold = tolerance_threshold\n",
    "\n",
    "    def step(self):\n",
    "        raise NotImplementedError\n"
   ]
  },
  {
   "cell_type": "markdown",
   "metadata": {},
   "source": [
    "\n",
    "To test the implementation, we can visualize the grid. To do this, we are creating a numpy array with zeros of the same width and height as the model grid. Next, we iterate over the grid and fill in this empty array. We use a value of 3 for an empty cell, and the color number from the `Color` enum class. \n",
    "\n",
    "We can easily visualize the filled in numpy array using matplotlib (e.g. matshow) or seaborn's heatmap. To make the figure a bit nicer, I use a few tricks. First, I am getting a color map from seaborn. This color map is generated by the [colorbrewer](https://colorbrewer2.org/) website. As you can see on this website, the `Set1` colormap has red as 1, blue as 2, and 3 as green. This matches perfectly with the numbers used in filling in the numpy array (and why we used 3 for the empty cells). Second, I like to have a nice equally spaced figure, which you can do by setting the aspect of the axes to equal. \n",
    "\n"
   ]
  },
  {
   "cell_type": "code",
   "execution_count": 3,
   "metadata": {
    "tags": []
   },
   "outputs": [
    {
     "data": {
      "image/png": "[encoded data removed]",
      "text/plain": [
       "<Figure size 1000x1000 with 2 Axes>"
      ]
     },
     "metadata": {},
     "output_type": "display_data"
    }
   ],
   "source": [
    "import numpy as np\n",
    "import matplotlib.pyplot as plt\n",
    "import seaborn as sns\n",
    "\n",
    "model = Schelling()\n",
    "\n",
    "\n",
    "def plot_model(model, ax, colors):\n",
    "    grid = np.zeros((model.height, model.width))\n",
    "\n",
    "    for cell, (i, j) in model.grid.coord_iter():\n",
    "        value = 3\n",
    "        if cell is not None:\n",
    "            value = cell.color.value\n",
    "        grid[i, j] = value\n",
    "    sns.heatmap(grid, ax=ax, cmap=colors)\n",
    "\n",
    "fig, ax = plt.subplots(figsize=(10, 10))\n",
    "colors = sns.color_palette('Set1', 3)\n",
    "ax.set_aspect('equal')\n",
    "\n",
    "plot_model(model, ax, colors)\n",
    "\n",
    "plt.show()"
   ]
  },
  {
   "cell_type": "markdown",
   "metadata": {},
   "source": [
    "## Assignment 2\n",
    "The next step is to implement the logic in the step method of the agent. This is straight forward, we iterate over our neighbors. If our neighbor is of a different color, we increment a counter. After having checked our entire neighborhood, the agent compares this counter with its tolerance threshold. If the number of neighbors of a different color is higher than the threshold, the agent will move. For now, we will use the `move_to_empty` method on the grid for this. \n",
    "\n",
    "Regarding neighborhood, assume that we include also our diagonal neighbors.\n",
    "\n",
    "Go ahead and implement the model.\n",
    "\n",
    "Test code is provided below."
   ]
  },
  {
   "cell_type": "code",
   "execution_count": 5,
   "metadata": {
    "ExecuteTime": {
     "end_time": "2020-10-23T07:39:45.072265Z",
     "start_time": "2020-10-23T07:39:45.063426Z"
    }
   },
   "outputs": [],
   "source": [
    "class SchellingAgent(Agent):\n",
    "    \"\"\"\n",
    "    Schelling segregation agent\n",
    "    \n",
    "    Parameters\n",
    "    ----------\n",
    "    pos : tuple of 2 ints\n",
    "          the x,y coordinates in the grid\n",
    "    model : Model instance\n",
    "    color : {Color.RED, Color.BLUE}\n",
    "    tolerance_threshold : float\n",
    "    \n",
    "    \"\"\"\n",
    "\n",
    "    def __init__(self, pos, model, color, tolerance_threshold):\n",
    "        super().__init__(pos, model)\n",
    "        self.pos = pos\n",
    "        self.color = color\n",
    "        self.tolerance_threshold = tolerance_threshold\n",
    "\n",
    "    def step(self):\n",
    "        different = 0\n",
    "        for neighbor in self.model.grid.iter_neighbors(self.pos, moore=True):\n",
    "            if neighbor.color != self.color:\n",
    "                different += 1\n",
    "\n",
    "        # If unhappy, move:\n",
    "        if different > self.tolerance_threshold:\n",
    "            self.model.grid.move_to_empty(self)"
   ]
  },
  {
   "cell_type": "code",
   "execution_count": 8,
   "metadata": {
    "tags": []
   },
   "outputs": [],
   "source": [
    "def agent_portrayal(agent):\n",
    "    if agent.color == Color.RED:\n",
    "        color = 'tab:red'\n",
    "    elif agent.color == Color.BLUE:\n",
    "        color = 'tab:blue'\n",
    "    else:\n",
    "        color = 'tab:green'\n",
    "    \n",
    "    \n",
    "    return {\n",
    "        \"color\": color,\n",
    "        \"size\": 50,\n",
    "    }\n",
    "\n",
    "\n",
    "model_params = {\n",
    "    \"density\": {\n",
    "        \"type\": \"SliderInt\",\n",
    "        \"value\": 0.8,\n",
    "        \"label\": \"density:\",\n",
    "        \"min\": 0.01,\n",
    "        \"max\": 0.99,\n",
    "        \"step\": 0.01,\n",
    "    },\n",
    "    \"minority_fraction\": {\n",
    "        \"type\": \"SliderInt\",\n",
    "        \"value\": 0.2,\n",
    "        \"label\": \"minority fraction\",\n",
    "        \"min\": 0.01,\n",
    "        \"max\": 0.49,\n",
    "        \"step\": 0.01,\n",
    "    },\n",
    "    \"tolerance_threshold\": {\n",
    "        \"type\": \"SliderInt\",\n",
    "        \"value\": 4,\n",
    "        \"label\": \"tolerance treshold\",\n",
    "        \"min\": 1,\n",
    "        \"max\": 7,\n",
    "        \"step\": 1,\n",
    "    }, \n",
    "    \"width\": 20,\n",
    "    \"height\": 20,\n",
    "}\n"
   ]
  },
  {
   "cell_type": "code",
   "execution_count": 9,
   "metadata": {
    "ExecuteTime": {
     "end_time": "2020-10-23T07:39:51.648348Z",
     "start_time": "2020-10-23T07:39:45.604454Z"
    },
    "tags": []
   },
   "outputs": [
    {
     "data": {
      "application/vnd.jupyter.widget-view+json": {
       "model_id": "a6d192bfd68e47409b920a2489c5a37b",
       "version_major": 2,
       "version_minor": 0
      },
      "text/html": [
       "Cannot show widget. You probably want to rerun the code cell above (<i>Click in the code cell, and press Shift+Enter <kbd>⇧</kbd>+<kbd>↩</kbd></i>)."
      ],
      "text/plain": [
       "Cannot show ipywidgets in text"
      ]
     },
     "metadata": {},
     "output_type": "display_data"
    }
   ],
   "source": [
    "from mesa.experimental import JupyterViz\n",
    "\n",
    "page = JupyterViz(\n",
    "    Schelling,\n",
    "    model_params,\n",
    "    measures=[],\n",
    "    name=\"Schelling Segregation\",\n",
    "    agent_portrayal=agent_portrayal,\n",
    ")\n",
    "# This is required to render the visualization in the Jupyter notebook\n",
    "page"
   ]
  },
  {
   "cell_type": "markdown",
   "metadata": {},
   "source": [
    "We now have a basis version of Schelling seggregation working. We can play around with this model and already learn quite a bit. However, we can also expand the model a bit more."
   ]
  },
  {
   "cell_type": "markdown",
   "metadata": {},
   "source": [
    "## Assignment 3\n",
    "We now have a working model. But we have so far relied only on visual inspection of the model. If we want to explore different tolerance levels, we need some useful statistics from the model as well. Making sense only of the grid is rather hard if we start running this model a few hundred times for different random seeds, different tolerance levels, and different neighborhood rules. A statistic that is easy to check is keeping track of how many agents are happy with their position. That is, they did not want to move to a new location. \n",
    "\n",
    "Implementing this requires a few changes:\n",
    "\n",
    "* Agents need a happy attribute. This is set to True if the agent did not move. It is set to False otherwise.\n",
    "* The model needs a data collector. This collector is called at each step of the model after all agents have moved and keeps track of the total number of happy agents.\n",
    "\n",
    "Go ahead and update both the agent and the model."
   ]
  },
  {
   "cell_type": "code",
   "execution_count": 12,
   "metadata": {
    "ExecuteTime": {
     "end_time": "2020-10-23T07:57:15.253089Z",
     "start_time": "2020-10-23T07:57:15.167859Z"
    },
    "tags": []
   },
   "outputs": [],
   "source": [
    "def count_happy(model):\n",
    "    happy = 0\n",
    "    for agent in model.schedule.agents:\n",
    "        if agent.happy:\n",
    "            happy += 1\n",
    "    return happy\n",
    "\n",
    "\n",
    "class Schelling(Model):\n",
    "    \"\"\"\n",
    "    Model class for the Schelling segregation model.\n",
    "    \n",
    "    Parameters\n",
    "    ----------\n",
    "    height : int\n",
    "             height of grid\n",
    "    width : int\n",
    "            height of width\n",
    "    density : float\n",
    "            fraction of grid cells occupied\n",
    "    minority_fraction : float\n",
    "            fraction of agent of minority color\n",
    "    tolerance_threshold : int\n",
    "    \n",
    "    Attributes\n",
    "    ----------\n",
    "    height : int\n",
    "    width : int\n",
    "    density : float\n",
    "    minority_fraction : float\n",
    "    schedule : RandomActivation instance\n",
    "    grid : SingleGrid instance\n",
    "    \n",
    "    \"\"\"\n",
    "\n",
    "    def __init__(self, height=20, width=20, density=0.8, minority_fraction=0.2,\n",
    "                 tolerance_threshold=4, seed=None):\n",
    "        super().__init__(seed=seed)\n",
    "        self.height = height\n",
    "        self.width = width\n",
    "        self.density = density\n",
    "        self.minority_fraction = minority_fraction\n",
    "\n",
    "        self.schedule = RandomActivation(self)\n",
    "        self.grid = SingleGrid(width, height, torus=True)\n",
    "        self.datacollector = DataCollector(model_reporters={'happy':count_happy})\n",
    "\n",
    "        # Set up agents\n",
    "        # We use a grid iterator that returns\n",
    "        # the coordinates of a cell as well as\n",
    "        # its contents. (coord_iter)\n",
    "        for _, pos in self.grid.coord_iter():\n",
    "            if self.random.random() < self.density:\n",
    "                if self.random.random() < self.minority_fraction:\n",
    "                    agent_color = Color.RED\n",
    "                else:\n",
    "                    agent_color = Color.BLUE\n",
    "\n",
    "                agent = SchellingAgent(pos, self, agent_color, tolerance_threshold)\n",
    "                self.grid.place_agent(agent, pos)\n",
    "                self.schedule.add(agent)\n",
    "\n",
    "    def step(self):\n",
    "        \"\"\"\n",
    "        Run one step of the model.\n",
    "        \"\"\"\n",
    "        self.schedule.step()\n",
    "        self.datacollector.collect(self)"
   ]
  },
  {
   "cell_type": "code",
   "execution_count": 13,
   "metadata": {
    "ExecuteTime": {
     "end_time": "2020-10-23T07:57:17.077103Z",
     "start_time": "2020-10-23T07:57:17.067130Z"
    },
    "tags": []
   },
   "outputs": [],
   "source": [
    "class SchellingAgent(Agent):\n",
    "    \"\"\"\n",
    "    Schelling segregation agent\n",
    "    \n",
    "    Parameters\n",
    "    ----------\n",
    "    pos : tuple of 2 ints\n",
    "          the x,y coordinates in the grid\n",
    "    model : Model instance\n",
    "    color : {Color.RED, Color.BLUE}\n",
    "    tolerance_threshold : float\n",
    "    \n",
    "    \"\"\"\n",
    "\n",
    "    def __init__(self, pos, model, color, tolerance_threshold):\n",
    "        super().__init__(pos, model)\n",
    "        self.pos = pos\n",
    "        self.color = color\n",
    "        self.tolerance_threshold = tolerance_threshold\n",
    "        self.happy = True\n",
    "\n",
    "    def step(self):\n",
    "        '''execute one step of the agent'''\n",
    "\n",
    "        different = 0\n",
    "        for neighbor in self.model.grid.iter_neighbors(self.pos, moore=True):\n",
    "            if neighbor.color != self.color:\n",
    "                different += 1\n",
    "        \n",
    "        meets_threshold = different <= self.tolerance_threshold\n",
    "        \n",
    "        if not meets_threshold:\n",
    "            self.model.grid.move_to_empty(self)\n",
    "            self.happy = False\n",
    "        else:\n",
    "            self.happy = True"
   ]
  },
  {
   "cell_type": "code",
   "execution_count": 14,
   "metadata": {
    "ExecuteTime": {
     "end_time": "2020-10-23T07:57:17.812294Z",
     "start_time": "2020-10-23T07:57:17.412005Z"
    },
    "tags": []
   },
   "outputs": [
    {
     "data": {
      "application/vnd.jupyter.widget-view+json": {
       "model_id": "675a49eab65645dea872847916a3d6c8",
       "version_major": 2,
       "version_minor": 0
      },
      "text/html": [
       "Cannot show widget. You probably want to rerun the code cell above (<i>Click in the code cell, and press Shift+Enter <kbd>⇧</kbd>+<kbd>↩</kbd></i>)."
      ],
      "text/plain": [
       "Cannot show ipywidgets in text"
      ]
     },
     "metadata": {},
     "output_type": "display_data"
    }
   ],
   "source": [
    "page = JupyterViz(\n",
    "    Schelling,\n",
    "    model_params,\n",
    "    measures=[\"happy\"],\n",
    "    name=\"Schelling Segregation\",\n",
    "    agent_portrayal=agent_portrayal,\n",
    ")\n",
    "# This is required to render the visualization in the Jupyter notebook\n",
    "page"
   ]
  },
  {
   "cell_type": "markdown",
   "metadata": {},
   "source": [
    "## Assignment 4\n",
    "We used the ``move_to_empty`` method to move our agent. However, this method simply returns a random empty cell. We can make this a bit smarter by checking each free cell to see if moving there makes sense. That is, would the new neighborhood meet our preferences with respect to the different types of neighbors?\n",
    "\n",
    "Below I have given the basic structure of this refined agent class. You have to fill in the `...` parts. Some more useful methods and attributes you might need are\n",
    "\n",
    "* *grid.empties*; contains the collection of empty grid cells\n",
    "* *grid.move_agent(agent, pos)*; method for moving an agent to a diffent grid cell. It also updates the position of the agent on the agent itself.\n",
    "* the agent has a model attribute, the model has a grid attribute\n",
    "\n",
    "Note that I have moved the checking of the threshold to its own seperate method which takes as input a position. In this way we can use the exact same code for checking whether an agent wants to move (we pass `self.pos`) or whether an empty cell meets the threshold (we pass an entry in `grid.empties`)."
   ]
  },
  {
   "cell_type": "code",
   "execution_count": 15,
   "metadata": {
    "ExecuteTime": {
     "end_time": "2020-10-23T07:57:20.256993Z",
     "start_time": "2020-10-23T07:57:20.244045Z"
    },
    "tags": []
   },
   "outputs": [],
   "source": [
    "class SchellingAgent(Agent):\n",
    "    \"\"\"\n",
    "    Schelling segregation agent\n",
    "    \n",
    "    Parameters\n",
    "    ----------\n",
    "    pos : tuple of 2 ints\n",
    "          the x,y coordinates in the grid\n",
    "    model : Model instance\n",
    "    color : {Color.RED, Color.BLUE}\n",
    "    tolerance_threshold : float\n",
    "    \n",
    "    \"\"\"\n",
    "\n",
    "    def __init__(self, pos, model, color, tolerance_threshold):\n",
    "        super().__init__(pos, model)\n",
    "        self.pos = pos\n",
    "        self.color = color\n",
    "        self.tolerance_threshold = tolerance_threshold\n",
    "        self.happy = True\n",
    "\n",
    "    def meets_threshold(self, pos):\n",
    "        '''check if a given position meets the tolerance threshold\n",
    "        \n",
    "        Returns\n",
    "        -------\n",
    "        bool\n",
    "        \n",
    "        '''\n",
    "        \n",
    "        different = 0\n",
    "        for neighbor in self.model.grid.iter_neighbors(pos, moore=True):\n",
    "            if neighbor.color != self.color:\n",
    "                different += 1\n",
    "        \n",
    "        return different <= self.tolerance_threshold\n",
    "       \n",
    "    def move_to_empty(self):\n",
    "        '''move to an empty spot in the grid if the empty spot meets the tolerance threshold'''\n",
    "        \n",
    "        for entry in self.model.grid.empties:\n",
    "            if self.meets_threshold(entry):\n",
    "                self.model.grid.move_agent(self, entry)\n",
    "                \n",
    "            \n",
    "    def step(self):\n",
    "        '''execute one step of the agent'''\n",
    "        if not self.meets_threshold(self.pos):\n",
    "            self.move_to_empty()\n",
    "            self.happy = False\n",
    "        else:\n",
    "            self.happy = True"
   ]
  },
  {
   "cell_type": "code",
   "execution_count": 16,
   "metadata": {
    "ExecuteTime": {
     "end_time": "2020-10-23T07:57:26.368064Z",
     "start_time": "2020-10-23T07:57:25.727701Z"
    },
    "tags": []
   },
   "outputs": [
    {
     "data": {
      "application/vnd.jupyter.widget-view+json": {
       "model_id": "a1c680eec3664aa8a9758263840719e9",
       "version_major": 2,
       "version_minor": 0
      },
      "text/html": [
       "Cannot show widget. You probably want to rerun the code cell above (<i>Click in the code cell, and press Shift+Enter <kbd>⇧</kbd>+<kbd>↩</kbd></i>)."
      ],
      "text/plain": [
       "Cannot show ipywidgets in text"
      ]
     },
     "metadata": {},
     "output_type": "display_data"
    }
   ],
   "source": [
    "page = JupyterViz(\n",
    "    Schelling,\n",
    "    model_params,\n",
    "    measures=[\"happy\"],\n",
    "    name=\"Schelling Segregation\",\n",
    "    agent_portrayal=agent_portrayal,\n",
    ")\n",
    "# This is required to render the visualization in the Jupyter notebook\n",
    "page"
   ]
  },
  {
   "cell_type": "markdown",
   "metadata": {},
   "source": [
    "## Assignment 5\n",
    "So far, we have run the model for the default values of the parameters `density`, `minority_fraction`, and `tolerance_threshold`. It is quite common in Agent Based Modelling to perform a parameter sweep where one runs the model over a range of parameterizations and analyse the results.\n",
    "\n",
    "MESA support this with a `batch_run` function. See the [MESA tutorial](https://mesa.readthedocs.io/en/latest/tutorials/intro_tutorial.html#batch-run) for details. In short, the `batch_run` function allows you to specify a set of values (fixed for parameters you don't want to vary and iterables for the parameters you do want to vary), the number of iterations/replications for each run and the number of steps to run the model for. At the end of each run, it automatically collects all statistics specified in the `self.datacollector` attribute of your model.\n",
    "\n",
    "The `batch_run` function assumes that a `self.running` attribute is available on the model. This is used to indicate that the model has reached a stable equilibrium and will not change in any subsequent steps. If running is True, the model will still change. If running is False, the model has reached an equilibrium.\n",
    "\n",
    "1. Let's update our model with this running attribute. What conditions must hold for the model to have reached equilibirum?\n",
    "\n",
    "**Answer: The condition that must hold for the model to have reached equilibirum, is that all agents in the model are happy.**\n",
    "\n",
    "2. Implement this condition and the running attribute. \n",
    "*Hint:* the scheduler has a `get_agent_count` method\n",
    "\n",
    "3. Perform a batch run with the following settings. Visualize some results:\n",
    "    * height and width fixed at 20\n",
    "    * density varies from 0.8 to 0.9 with 0.025 increments\n",
    "    * minority_fraction varies from 0.2 to 0.4 with 0.1 increments\n",
    "    * tolerance_threshold varies from 2 to 4 with increment of 1\n",
    "    * 5 replications\n",
    "    * 50 steps"
   ]
  },
  {
   "cell_type": "code",
   "execution_count": 19,
   "metadata": {
    "ExecuteTime": {
     "end_time": "2020-10-23T08:07:46.867257Z",
     "start_time": "2020-10-23T08:07:46.851382Z"
    },
    "tags": []
   },
   "outputs": [],
   "source": [
    "class Schelling(Model):\n",
    "    \"\"\"\n",
    "    Model class for the Schelling segregation model.\n",
    "    \n",
    "    Parameters\n",
    "    ----------\n",
    "    height : int\n",
    "             height of grid\n",
    "    width : int\n",
    "            height of width\n",
    "    density : float\n",
    "            fraction of grid cells occupied\n",
    "    minority_fraction : float\n",
    "            fraction of agent of minority color\n",
    "    tolerance_threshold : int\n",
    "    \n",
    "    Attributes\n",
    "    ----------\n",
    "    height : int\n",
    "    width : int\n",
    "    density : float\n",
    "    minority_fraction : float\n",
    "    schedule : RandomActivation instance\n",
    "    grid : SingleGrid instance\n",
    "    \n",
    "    \"\"\"\n",
    "\n",
    "    def __init__(self, height=20, width=20, density=0.8, minority_fraction=0.2,\n",
    "                 tolerance_threshold=4, seed=None):\n",
    "        super().__init__(seed=seed)\n",
    "        self.height = height\n",
    "        self.width = width\n",
    "        self.density = density\n",
    "        self.minority_fraction = minority_fraction\n",
    "        self.running = True\n",
    "\n",
    "        self.schedule = RandomActivation(self)\n",
    "        self.grid = SingleGrid(width, height, torus=True)\n",
    "        self.datacollector = DataCollector(model_reporters={'happy':count_happy})\n",
    "\n",
    "        # Set up agents\n",
    "        # We use a grid iterator that returns\n",
    "        # the coordinates of a cell as well as\n",
    "        # its contents. (coord_iter)\n",
    "        for _, pos in self.grid.coord_iter():\n",
    "            if self.random.random() < self.density:\n",
    "                if self.random.random() < self.minority_fraction:\n",
    "                    agent_color = Color.RED\n",
    "                else:\n",
    "                    agent_color = Color.BLUE\n",
    "\n",
    "                agent = SchellingAgent(pos, self, agent_color, tolerance_threshold)\n",
    "                self.grid.place_agent(agent, pos)\n",
    "                self.schedule.add(agent)\n",
    "\n",
    "    def step(self):\n",
    "        \"\"\"\n",
    "        Run one step of the model.\n",
    "        \"\"\"\n",
    "        self.schedule.step()\n",
    "        self.datacollector.collect(self)\n",
    "        \n",
    "        if count_happy(self) == self.schedule.get_agent_count():\n",
    "            self.running = False"
   ]
  },
  {
   "cell_type": "code",
   "execution_count": 20,
   "metadata": {
    "tags": []
   },
   "outputs": [
    {
     "data": {
      "application/vnd.jupyter.widget-view+json": {
       "model_id": "5081a0e022cd4b32b031e1366ba50356",
       "version_major": 2,
       "version_minor": 0
      },
      "text/plain": [
       "  0%|          | 0/225 [00:00<?, ?it/s]"
      ]
     },
     "metadata": {},
     "output_type": "display_data"
    }
   ],
   "source": [
    "from mesa.batchrunner import batch_run\n",
    "\n",
    "params = {'width': 20, 'height': 20,\n",
    "          'density': [0.8, 0.825, 0.85, 0.875, 0.9],\n",
    "          'minority_fraction': [0.2, 0.3, 0.4],\n",
    "          'tolerance_threshold': [2, 3, 4]}\n",
    "\n",
    "results = batch_run(Schelling, params, iterations=5, max_steps=50)"
   ]
  },
  {
   "cell_type": "code",
   "execution_count": 21,
   "metadata": {
    "tags": []
   },
   "outputs": [
    {
     "data": {
      "text/html": [
       "<div>\n",
       "<style scoped>\n",
       "    .dataframe tbody tr th:only-of-type {\n",
       "        vertical-align: middle;\n",
       "    }\n",
       "\n",
       "    .dataframe tbody tr th {\n",
       "        vertical-align: top;\n",
       "    }\n",
       "\n",
       "    .dataframe thead th {\n",
       "        text-align: right;\n",
       "    }\n",
       "</style>\n",
       "<table border=\"1\" class=\"dataframe\">\n",
       "  <thead>\n",
       "    <tr style=\"text-align: right;\">\n",
       "      <th></th>\n",
       "      <th>RunId</th>\n",
       "      <th>iteration</th>\n",
       "      <th>Step</th>\n",
       "      <th>width</th>\n",
       "      <th>height</th>\n",
       "      <th>density</th>\n",
       "      <th>minority_fraction</th>\n",
       "      <th>tolerance_threshold</th>\n",
       "      <th>happy</th>\n",
       "    </tr>\n",
       "  </thead>\n",
       "  <tbody>\n",
       "    <tr>\n",
       "      <th>0</th>\n",
       "      <td>0</td>\n",
       "      <td>0</td>\n",
       "      <td>50</td>\n",
       "      <td>20</td>\n",
       "      <td>20</td>\n",
       "      <td>0.800</td>\n",
       "      <td>0.2</td>\n",
       "      <td>2</td>\n",
       "      <td>284</td>\n",
       "    </tr>\n",
       "    <tr>\n",
       "      <th>1</th>\n",
       "      <td>1</td>\n",
       "      <td>0</td>\n",
       "      <td>50</td>\n",
       "      <td>20</td>\n",
       "      <td>20</td>\n",
       "      <td>0.800</td>\n",
       "      <td>0.2</td>\n",
       "      <td>3</td>\n",
       "      <td>303</td>\n",
       "    </tr>\n",
       "    <tr>\n",
       "      <th>2</th>\n",
       "      <td>2</td>\n",
       "      <td>0</td>\n",
       "      <td>50</td>\n",
       "      <td>20</td>\n",
       "      <td>20</td>\n",
       "      <td>0.800</td>\n",
       "      <td>0.2</td>\n",
       "      <td>4</td>\n",
       "      <td>298</td>\n",
       "    </tr>\n",
       "    <tr>\n",
       "      <th>3</th>\n",
       "      <td>3</td>\n",
       "      <td>0</td>\n",
       "      <td>6</td>\n",
       "      <td>20</td>\n",
       "      <td>20</td>\n",
       "      <td>0.800</td>\n",
       "      <td>0.3</td>\n",
       "      <td>2</td>\n",
       "      <td>309</td>\n",
       "    </tr>\n",
       "    <tr>\n",
       "      <th>4</th>\n",
       "      <td>4</td>\n",
       "      <td>0</td>\n",
       "      <td>5</td>\n",
       "      <td>20</td>\n",
       "      <td>20</td>\n",
       "      <td>0.800</td>\n",
       "      <td>0.3</td>\n",
       "      <td>3</td>\n",
       "      <td>318</td>\n",
       "    </tr>\n",
       "    <tr>\n",
       "      <th>5</th>\n",
       "      <td>5</td>\n",
       "      <td>0</td>\n",
       "      <td>4</td>\n",
       "      <td>20</td>\n",
       "      <td>20</td>\n",
       "      <td>0.800</td>\n",
       "      <td>0.3</td>\n",
       "      <td>4</td>\n",
       "      <td>318</td>\n",
       "    </tr>\n",
       "    <tr>\n",
       "      <th>6</th>\n",
       "      <td>6</td>\n",
       "      <td>0</td>\n",
       "      <td>7</td>\n",
       "      <td>20</td>\n",
       "      <td>20</td>\n",
       "      <td>0.800</td>\n",
       "      <td>0.4</td>\n",
       "      <td>2</td>\n",
       "      <td>325</td>\n",
       "    </tr>\n",
       "    <tr>\n",
       "      <th>7</th>\n",
       "      <td>7</td>\n",
       "      <td>0</td>\n",
       "      <td>4</td>\n",
       "      <td>20</td>\n",
       "      <td>20</td>\n",
       "      <td>0.800</td>\n",
       "      <td>0.4</td>\n",
       "      <td>3</td>\n",
       "      <td>323</td>\n",
       "    </tr>\n",
       "    <tr>\n",
       "      <th>8</th>\n",
       "      <td>8</td>\n",
       "      <td>0</td>\n",
       "      <td>3</td>\n",
       "      <td>20</td>\n",
       "      <td>20</td>\n",
       "      <td>0.800</td>\n",
       "      <td>0.4</td>\n",
       "      <td>4</td>\n",
       "      <td>310</td>\n",
       "    </tr>\n",
       "    <tr>\n",
       "      <th>9</th>\n",
       "      <td>9</td>\n",
       "      <td>0</td>\n",
       "      <td>50</td>\n",
       "      <td>20</td>\n",
       "      <td>20</td>\n",
       "      <td>0.825</td>\n",
       "      <td>0.2</td>\n",
       "      <td>2</td>\n",
       "      <td>307</td>\n",
       "    </tr>\n",
       "  </tbody>\n",
       "</table>\n",
       "</div>"
      ],
      "text/plain": [
       "   RunId  iteration  Step  width  height  density  minority_fraction  \\\n",
       "0      0          0    50     20      20    0.800                0.2   \n",
       "1      1          0    50     20      20    0.800                0.2   \n",
       "2      2          0    50     20      20    0.800                0.2   \n",
       "3      3          0     6     20      20    0.800                0.3   \n",
       "4      4          0     5     20      20    0.800                0.3   \n",
       "5      5          0     4     20      20    0.800                0.3   \n",
       "6      6          0     7     20      20    0.800                0.4   \n",
       "7      7          0     4     20      20    0.800                0.4   \n",
       "8      8          0     3     20      20    0.800                0.4   \n",
       "9      9          0    50     20      20    0.825                0.2   \n",
       "\n",
       "   tolerance_threshold  happy  \n",
       "0                    2    284  \n",
       "1                    3    303  \n",
       "2                    4    298  \n",
       "3                    2    309  \n",
       "4                    3    318  \n",
       "5                    4    318  \n",
       "6                    2    325  \n",
       "7                    3    323  \n",
       "8                    4    310  \n",
       "9                    2    307  "
      ]
     },
     "execution_count": 21,
     "metadata": {},
     "output_type": "execute_result"
    }
   ],
   "source": [
    "results_df = pd.DataFrame(results)\n",
    "results_df.head(10)"
   ]
  },
  {
   "cell_type": "code",
   "execution_count": 23,
   "metadata": {
    "tags": []
   },
   "outputs": [],
   "source": [
    "%matplotlib inline"
   ]
  },
  {
   "cell_type": "code",
   "execution_count": 25,
   "metadata": {
    "tags": []
   },
   "outputs": [
    {
     "data": {
      "image/png": "[encoded data removed]",
      "text/plain": [
       "<Figure size 1000x500 with 1 Axes>"
      ]
     },
     "metadata": {},
     "output_type": "display_data"
    }
   ],
   "source": [
    "fig, ax = plt.subplots(figsize=(10,5))\n",
    "ax.scatter(results_df.minority_fraction, results_df.density, c=results_df.happy,\n",
    "          cmap='viridis')\n",
    "ax.set_xlabel('minority fraction')\n",
    "ax.set_ylabel('density')\n",
    "plt.show()"
   ]
  },
  {
   "cell_type": "code",
   "execution_count": null,
   "metadata": {},
   "outputs": [],
   "source": []
  }
 ],
 "metadata": {
  "kernelspec": {
   "display_name": "Python 3 (ipykernel)",
   "language": "python",
   "name": "python3"
  },
  "language_info": {
   "codemirror_mode": {
    "name": "ipython",
    "version": 3
   },
   "file_extension": ".py",
   "mimetype": "text/x-python",
   "name": "python",
   "nbconvert_exporter": "python",
   "pygments_lexer": "ipython3",
   "version": "3.11.5"
  },
  "toc-showcode": false,
  "toc-showtags": false
 },
 "nbformat": 4,
 "nbformat_minor": 4
}
